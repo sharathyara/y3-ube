{
 "cells": [
  {
   "cell_type": "code",
   "execution_count": 15,
   "id": "4a75b5c3",
   "metadata": {},
   "outputs": [
    {
     "name": "stdout",
     "output_type": "stream",
     "text": [
      "Starting Spark application\n"
     ]
    },
    {
     "data": {
      "text/html": [
       "<table>\n",
       "<tr><th>ID</th><th>YARN Application ID</th><th>Kind</th><th>State</th><th>Spark UI</th><th>Driver log</th><th>User</th><th>Current session?</th></tr><tr><td>1</td><td>application_1665741913293_0002</td><td>pyspark</td><td>idle</td><td><a target=\"_blank\" href=\"http://ip-10-188-4-246.eu-central-1.compute.internal:20888/proxy/application_1665741913293_0002/\" class=\"emr-proxy-link\" emr-resource=\"j-355C7VZCOK1BB\n",
       "\" application-id=\"application_1665741913293_0002\">Link</a></td><td><a target=\"_blank\" href=\"http://ip-10-188-4-219.eu-central-1.compute.internal:8042/node/containerlogs/container_1665741913293_0002_01_000001/livy\" >Link</a></td><td>None</td><td>✔</td></tr></table>"
      ],
      "text/plain": [
       "<IPython.core.display.HTML object>"
      ]
     },
     "metadata": {},
     "output_type": "display_data"
    },
    {
     "data": {
      "application/vnd.jupyter.widget-view+json": {
       "model_id": "",
       "version_major": 2,
       "version_minor": 0
      },
      "text/plain": [
       "FloatProgress(value=0.0, bar_style='info', description='Progress:', layout=Layout(height='25px', width='50%'),…"
      ]
     },
     "metadata": {},
     "output_type": "display_data"
    },
    {
     "name": "stdout",
     "output_type": "stream",
     "text": [
      "SparkSession available as 'spark'.\n"
     ]
    },
    {
     "data": {
      "text/html": [
       "Current session configs: <tt>{'conf': {'spark.jars': 'hdfs:///apps/hudi/lib/hudi-spark-bundle.jar,hdfs:///apps/hudi/lib/spark-avro.jar', 'spark.serializer': 'org.apache.spark.serializer.KryoSerializer', 'spark.sql.hive.convertMetastoreParquet': 'false'}, 'proxyUser': 'assumed-role_AWSReservedSSO_fulladm_117d8535f34823cf_adm057185_yara_com', 'kind': 'pyspark'}</tt><br>"
      ],
      "text/plain": [
       "<IPython.core.display.HTML object>"
      ]
     },
     "metadata": {},
     "output_type": "display_data"
    },
    {
     "data": {
      "text/html": [
       "<table>\n",
       "<tr><th>ID</th><th>YARN Application ID</th><th>Kind</th><th>State</th><th>Spark UI</th><th>Driver log</th><th>User</th><th>Current session?</th></tr><tr><td>1</td><td>application_1665741913293_0002</td><td>pyspark</td><td>idle</td><td><a target=\"_blank\" href=\"http://ip-10-188-4-246.eu-central-1.compute.internal:20888/proxy/application_1665741913293_0002/\" class=\"emr-proxy-link\" emr-resource=\"j-355C7VZCOK1BB\n",
       "\" application-id=\"application_1665741913293_0002\">Link</a></td><td><a target=\"_blank\" href=\"http://ip-10-188-4-219.eu-central-1.compute.internal:8042/node/containerlogs/container_1665741913293_0002_01_000001/livy\" >Link</a></td><td>None</td><td>✔</td></tr></table>"
      ],
      "text/plain": [
       "<IPython.core.display.HTML object>"
      ]
     },
     "metadata": {},
     "output_type": "display_data"
    }
   ],
   "source": [
    "%%configure -f\n",
    "{ \"conf\": {\n",
    "            \"spark.jars\":\"hdfs:///apps/hudi/lib/hudi-spark-bundle.jar,hdfs:///apps/hudi/lib/spark-avro.jar\",\n",
    "            \"spark.serializer\":\"org.apache.spark.serializer.KryoSerializer\",\n",
    "            \"spark.sql.hive.convertMetastoreParquet\":\"false\"\n",
    "          }}"
   ]
  },
  {
   "cell_type": "markdown",
   "id": "4886acdf",
   "metadata": {},
   "source": [
    "# Test no 2 - Users"
   ]
  },
  {
   "cell_type": "markdown",
   "id": "69296190",
   "metadata": {},
   "source": [
    "## Data prep "
   ]
  },
  {
   "cell_type": "code",
   "execution_count": 3,
   "id": "0c01cf85",
   "metadata": {},
   "outputs": [
    {
     "data": {
      "application/vnd.jupyter.widget-view+json": {
       "model_id": "ba72e68925a84bfdb655a1b6023219d1",
       "version_major": 2,
       "version_minor": 0
      },
      "text/plain": [
       "VBox()"
      ]
     },
     "metadata": {},
     "output_type": "display_data"
    },
    {
     "data": {
      "application/vnd.jupyter.widget-view+json": {
       "model_id": "",
       "version_major": 2,
       "version_minor": 0
      },
      "text/plain": [
       "FloatProgress(value=0.0, bar_style='info', description='Progress:', layout=Layout(height='25px', width='50%'),…"
      ]
     },
     "metadata": {},
     "output_type": "display_data"
    },
    {
     "name": "stdout",
     "output_type": "stream",
     "text": [
      "root\n",
      " |-- dateTimeOccurred: string (nullable = false)\n",
      " |-- data: struct (nullable = true)\n",
      " |    |-- id: string (nullable = false)\n",
      " |    |-- auth_id: string (nullable = true)\n",
      " |    |-- first_name: string (nullable = true)\n",
      " |    |-- last_name: string (nullable = true)\n",
      " |    |-- phone: string (nullable = true)\n",
      " |    |-- primary_email: string (nullable = true)\n",
      " |    |-- country: string (nullable = true)\n",
      " |    |-- address: string (nullable = true)\n",
      " |    |-- zipcode: string (nullable = true)\n",
      " |    |-- source: string (nullable = true)\n",
      " |    |-- created_at: string (nullable = true)\n",
      " |    |-- updated_at: string (nullable = true)\n",
      " |    |-- deleted_at: string (nullable = true)\n",
      " |-- eventSource: string (nullable = false)\n",
      " |-- eventType: string (nullable = false)\n",
      " |-- eventId: string (nullable = true)\n",
      "\n",
      "+--------------------+--------------------+--------------------+---------+--------------------+\n",
      "|    dateTimeOccurred|                data|         eventSource|eventType|             eventId|\n",
      "+--------------------+--------------------+--------------------+---------+--------------------+\n",
      "|2022-09-22T08:00:...|[61998a31-cbd8-47...|ffdp_central_stor...|   Insert|2022-09-22-08-00-...|\n",
      "|2022-09-22T08:01:...|[26eff161-dbf9-45...|ffdp_central_stor...|   Insert|2022-09-22-08-01-...|\n",
      "|2022-09-22T08:04:...|[c2b86d7f-95a3-4f...|ffdp_central_stor...|   Insert|2022-09-22-08-04-...|\n",
      "+--------------------+--------------------+--------------------+---------+--------------------+"
     ]
    }
   ],
   "source": [
    "# Create a DataFrame\n",
    "from pyspark.sql.types import StructType,StructField, StringType\n",
    "schema = StructType([\n",
    "    StructField('dateTimeOccurred', StringType(), False),\n",
    "    StructField('data', StructType([ \n",
    "        StructField('id', StringType(), False),\n",
    "        StructField('auth_id', StringType(), True),\n",
    "        StructField('first_name', StringType(), True),\n",
    "        StructField('last_name', StringType(), True),\n",
    "        StructField('phone', StringType(), True),\n",
    "        StructField('primary_email', StringType(), True),\n",
    "        StructField('country', StringType(), True),\n",
    "        StructField('address', StringType(), True),\n",
    "        StructField('zipcode', StringType(), True),\n",
    "        StructField('source', StringType(), True),\n",
    "        StructField('created_at', StringType(), True),\n",
    "        StructField('updated_at', StringType(), True),\n",
    "        StructField('deleted_at', StringType(), True)\n",
    "    ]), True),\n",
    "StructField('eventSource', StringType(), False),\n",
    "StructField('eventType', StringType(), False),\n",
    "StructField('eventId', StringType(), True) \n",
    "    ])\n",
    "inputDF = spark.createDataFrame(\n",
    "    [\n",
    "        (\"2022-09-22T08:00:00.869Z\", (\"61998a31-cbd8-47de-9b2b-554b0377a000\", \"7d723ebd-f9cb-4b78-be1f-b6d8021a4187\", \"Jess\", \"\", \"+0048272699519\", \"jacacio.d@gmail.com\", \"\", \"\", \"\", \"atfarm\", \"1519906269690\", \"1519906280718\", None), \"ffdp_central_store.farm_profile.users\", \"Insert\", \"2022-09-22-08-00-00-000000\"),\n",
    "        (\"2022-09-22T08:01:00.869Z\", (\"26eff161-dbf9-45e3-bc9d-b311224858c2\", \"cf87173b-aa25-4954-91df-45a8063dc50d\", \"Johannes Boyne\", \"\", \"+0048611016809\", \"johannesboyne+yara-staging-1@gmail.com\", \"\", \"\", \"\", \"atfarm\", \"1519906269690\", \"1520077642240\", None), \"ffdp_central_store.farm_profile.users\", \"Insert\", \"2022-09-22-08-01-00-000001\"),\n",
    "        (\"2022-09-22T08:04:00.869Z\", (\"c2b86d7f-95a3-4f65-9863-d5338e99bcf0\", \"8ad9e19b-b8d1-452b-a689-8469893fddff\", \"Max Mustermann\", \"\", \"+0048664268672\", \"johannesboyne+yara123@gmail.com\", \"\", \"\", \"\", \"atfarm\", \"1520432203566\", \"1520432203566\", None), \"ffdp_central_store.farm_profile.users\", \"Insert\", \"2022-09-22-08-04-00-000004\")\n",
    "        \n",
    "    ],\n",
    "    schema\n",
    ")\n",
    "inputDF.printSchema()\n",
    "inputDF.show()"
   ]
  },
  {
   "cell_type": "markdown",
   "id": "bdeab4d1",
   "metadata": {},
   "source": [
    "## CDC via Glue Checks"
   ]
  },
  {
   "cell_type": "code",
   "execution_count": 2,
   "id": "3c1804bb",
   "metadata": {},
   "outputs": [
    {
     "data": {
      "application/vnd.jupyter.widget-view+json": {
       "model_id": "3145e04bcc3b486a8ff9ebbfdb06b94c",
       "version_major": 2,
       "version_minor": 0
      },
      "text/plain": [
       "VBox()"
      ]
     },
     "metadata": {},
     "output_type": "display_data"
    },
    {
     "name": "stdout",
     "output_type": "stream",
     "text": [
      "Starting Spark application\n"
     ]
    },
    {
     "data": {
      "text/html": [
       "<table>\n",
       "<tr><th>ID</th><th>YARN Application ID</th><th>Kind</th><th>State</th><th>Spark UI</th><th>Driver log</th><th>User</th><th>Current session?</th></tr><tr><td>0</td><td>application_1665741913293_0001</td><td>pyspark</td><td>idle</td><td><a target=\"_blank\" href=\"http://ip-10-188-4-246.eu-central-1.compute.internal:20888/proxy/application_1665741913293_0001/\" class=\"emr-proxy-link\" emr-resource=\"j-355C7VZCOK1BB\n",
       "\" application-id=\"application_1665741913293_0001\">Link</a></td><td><a target=\"_blank\" href=\"http://ip-10-188-4-219.eu-central-1.compute.internal:8042/node/containerlogs/container_1665741913293_0001_01_000001/livy\" >Link</a></td><td>None</td><td>✔</td></tr></table>"
      ],
      "text/plain": [
       "<IPython.core.display.HTML object>"
      ]
     },
     "metadata": {},
     "output_type": "display_data"
    },
    {
     "data": {
      "application/vnd.jupyter.widget-view+json": {
       "model_id": "",
       "version_major": 2,
       "version_minor": 0
      },
      "text/plain": [
       "FloatProgress(value=0.0, bar_style='info', description='Progress:', layout=Layout(height='25px', width='50%'),…"
      ]
     },
     "metadata": {},
     "output_type": "display_data"
    },
    {
     "name": "stdout",
     "output_type": "stream",
     "text": [
      "SparkSession available as 'spark'.\n"
     ]
    },
    {
     "data": {
      "application/vnd.jupyter.widget-view+json": {
       "model_id": "",
       "version_major": 2,
       "version_minor": 0
      },
      "text/plain": [
       "FloatProgress(value=0.0, bar_style='info', description='Progress:', layout=Layout(height='25px', width='50%'),…"
      ]
     },
     "metadata": {},
     "output_type": "display_data"
    }
   ],
   "source": [
    "hudiOptions = {\n",
    "'hoodie.table.name': 'cdc_users',\n",
    "'hoodie.datasource.write.recordkey.field': 'id',\n",
    "'hoodie.datasource.write.partitionpath.field': 'created_at',\n",
    "'hoodie.datasource.write.precombine.field': 'dateTimeOccurred',\n",
    "'hoodie.datasource.hive_sync.enable': 'true',\n",
    "'hoodie.datasource.hive_sync.table': 'cdc_users',\n",
    "'hoodie.datasource.hive_sync.partition_fields': 'created_at',\n",
    "'hoodie.datasource.hive_sync.partition_extractor_class': 'org.apache.hudi.hive.MultiPartKeysValueExtractor'\n",
    "}"
   ]
  },
  {
   "cell_type": "code",
   "execution_count": 3,
   "id": "780a0409",
   "metadata": {},
   "outputs": [
    {
     "data": {
      "application/vnd.jupyter.widget-view+json": {
       "model_id": "11bfe53b42674ae7aaf6c1b523d2f6d3",
       "version_major": 2,
       "version_minor": 0
      },
      "text/plain": [
       "VBox()"
      ]
     },
     "metadata": {},
     "output_type": "display_data"
    },
    {
     "data": {
      "application/vnd.jupyter.widget-view+json": {
       "model_id": "",
       "version_major": 2,
       "version_minor": 0
      },
      "text/plain": [
       "FloatProgress(value=0.0, bar_style='info', description='Progress:', layout=Layout(height='25px', width='50%'),…"
      ]
     },
     "metadata": {},
     "output_type": "display_data"
    },
    {
     "name": "stdout",
     "output_type": "stream",
     "text": [
      "+--------------------+--------------+--------------------+-------------+-------------+---------+\n",
      "|                  id|    first_name|       primary_email|   created_at|   updated_at|eventType|\n",
      "+--------------------+--------------+--------------------+-------------+-------------+---------+\n",
      "|7b285a3e-42c9-411...|Johannes Boyne|johannesboyne+yar...|1520433144493|1520433144494|   Insert|\n",
      "|c2b86d7f-95a3-4f6...|Max Mustermann|johannesboyne+yar...|1520432203566|1520432203566|   Insert|\n",
      "|61998a31-cbd8-47d...|          Jess| jacacio.d@gmail.com|1519906269690|1519906280718|   Insert|\n",
      "+--------------------+--------------+--------------------+-------------+-------------+---------+"
     ]
    }
   ],
   "source": [
    "snapshotQueryDF = spark.read \\\n",
    "    .format('org.apache.hudi') \\\n",
    "    .load('s3://aws-emr-resources-479055760150-eu-central-1/cdc_users' + '/*/*') \\\n",
    "    .select(\"id\", \"first_name\", \"primary_email\", \"created_at\", \"updated_at\", \"eventType\")\n",
    "# .filter(\"eventType = 'Update'\") \\\n",
    "    \n",
    "snapshotQueryDF.show()"
   ]
  },
  {
   "cell_type": "code",
   "execution_count": 13,
   "id": "c6331bce",
   "metadata": {},
   "outputs": [
    {
     "data": {
      "application/vnd.jupyter.widget-view+json": {
       "model_id": "dbc3653c404743df88793e2330cdf93e",
       "version_major": 2,
       "version_minor": 0
      },
      "text/plain": [
       "VBox()"
      ]
     },
     "metadata": {},
     "output_type": "display_data"
    },
    {
     "data": {
      "application/vnd.jupyter.widget-view+json": {
       "model_id": "",
       "version_major": 2,
       "version_minor": 0
      },
      "text/plain": [
       "FloatProgress(value=0.0, bar_style='info', description='Progress:', layout=Layout(height='25px', width='50%'),…"
      ]
     },
     "metadata": {},
     "output_type": "display_data"
    }
   ],
   "source": [
    "rawDF = spark.read.parquet(f\"s3://aws-emr-resources-479055760150-eu-central-1/cdc_users/*/*.parquet\")\n",
    "# rawDF.show(rawDF.count(), truncate=False)"
   ]
  },
  {
   "cell_type": "code",
   "execution_count": 6,
   "id": "a7a88ef6",
   "metadata": {},
   "outputs": [
    {
     "data": {
      "application/vnd.jupyter.widget-view+json": {
       "model_id": "844e7581a4c8455693e8ae01645f6011",
       "version_major": 2,
       "version_minor": 0
      },
      "text/plain": [
       "VBox()"
      ]
     },
     "metadata": {},
     "output_type": "display_data"
    },
    {
     "data": {
      "application/vnd.jupyter.widget-view+json": {
       "model_id": "",
       "version_major": 2,
       "version_minor": 0
      },
      "text/plain": [
       "FloatProgress(value=0.0, bar_style='info', description='Progress:', layout=Layout(height='25px', width='50%'),…"
      ]
     },
     "metadata": {},
     "output_type": "display_data"
    },
    {
     "name": "stdout",
     "output_type": "stream",
     "text": [
      "20221013101630531"
     ]
    }
   ],
   "source": [
    "last_commit_time = rawDF.sort(rawDF._hoodie_commit_time.desc()).select(\"_hoodie_commit_time\").limit(1).collect()[0]._hoodie_commit_time\n",
    "print(last_commit_time)"
   ]
  },
  {
   "cell_type": "code",
   "execution_count": 10,
   "id": "16e7f497",
   "metadata": {},
   "outputs": [
    {
     "data": {
      "application/vnd.jupyter.widget-view+json": {
       "model_id": "c3c92b340bbd4f24b2943dfe42195c04",
       "version_major": 2,
       "version_minor": 0
      },
      "text/plain": [
       "VBox()"
      ]
     },
     "metadata": {},
     "output_type": "display_data"
    },
    {
     "data": {
      "application/vnd.jupyter.widget-view+json": {
       "model_id": "",
       "version_major": 2,
       "version_minor": 0
      },
      "text/plain": [
       "FloatProgress(value=0.0, bar_style='info', description='Progress:', layout=Layout(height='25px', width='50%'),…"
      ]
     },
     "metadata": {},
     "output_type": "display_data"
    },
    {
     "name": "stdout",
     "output_type": "stream",
     "text": [
      "+-------------------+--------------------+--------------+--------------------+-------------+-------------+---------+\n",
      "|_hoodie_commit_time|                  id|    first_name|       primary_email|   created_at|   updated_at|eventType|\n",
      "+-------------------+--------------------+--------------+--------------------+-------------+-------------+---------+\n",
      "|  20221013100436088|26eff161-dbf9-45e...|Johannes Boyne|johannesboyne+yar...|1520077642240|1520077642240|   Update|\n",
      "|  20221013101630531|7b285a3e-42c9-411...|Johannes Boyne|johannesboyne+yar...|1520433144493|1520433144494|   Insert|\n",
      "|  20221013101630531|c2b86d7f-95a3-4f6...|Max Mustermann|johannesboyne+yar...|1520432203566|1520432203566|   Insert|\n",
      "|  20221013101630531|61998a31-cbd8-47d...|          Jess| jacacio.d@gmail.com|1519906269690|1519906280718|   Insert|\n",
      "+-------------------+--------------------+--------------+--------------------+-------------+-------------+---------+"
     ]
    }
   ],
   "source": [
    "readOptions = {\n",
    "  'hoodie.datasource.query.type': 'incremental',\n",
    "  'hoodie.datasource.read.begin.instanttime': '0',\n",
    "  'hoodie.datasource.read.end.instanttime': last_commit_time,\n",
    "}\n",
    "\n",
    "incQueryDF = spark.read \\\n",
    "    .format('org.apache.hudi') \\\n",
    "    .options(**readOptions) \\\n",
    "    .load(f\"s3://aws-emr-resources-479055760150-eu-central-1/cdc_users\") \\\n",
    "    .select(\"_hoodie_commit_time\", \"id\", \"first_name\", \"primary_email\", \"created_at\", \"updated_at\", \"eventType\")\n",
    "    \n",
    "incQueryDF.show()"
   ]
  },
  {
   "cell_type": "code",
   "execution_count": 11,
   "id": "4dedf36a",
   "metadata": {},
   "outputs": [
    {
     "data": {
      "application/vnd.jupyter.widget-view+json": {
       "model_id": "7ad3d20c1eed4c7e86123038874b2d40",
       "version_major": 2,
       "version_minor": 0
      },
      "text/plain": [
       "VBox()"
      ]
     },
     "metadata": {},
     "output_type": "display_data"
    },
    {
     "data": {
      "application/vnd.jupyter.widget-view+json": {
       "model_id": "",
       "version_major": 2,
       "version_minor": 0
      },
      "text/plain": [
       "FloatProgress(value=0.0, bar_style='info', description='Progress:', layout=Layout(height='25px', width='50%'),…"
      ]
     },
     "metadata": {},
     "output_type": "display_data"
    },
    {
     "name": "stdout",
     "output_type": "stream",
     "text": [
      "+-------------------+--------------------+--------------+--------------------+-------------+-------------+---------+\n",
      "|_hoodie_commit_time|                  id|    first_name|       primary_email|   created_at|   updated_at|eventType|\n",
      "+-------------------+--------------------+--------------+--------------------+-------------+-------------+---------+\n",
      "|  20221013100436088|26eff161-dbf9-45e...|Johannes Boyne|johannesboyne+yar...|1520077642240|1520077642240|   Update|\n",
      "|  20221013100436088|7b285a3e-42c9-411...|Johannes Boyne|johannesboyne+yar...|1520433144493|1520433144494|   Insert|\n",
      "|  20221013100436088|c2b86d7f-95a3-4f6...|Max Mustermann|johannesboyne+yar...|1520432203566|1520432203566|   Insert|\n",
      "|  20221013100436088|61998a31-cbd8-47d...|          Jess| jacacio.d@gmail.com|1519906269690|1519906280718|   Insert|\n",
      "+-------------------+--------------------+--------------+--------------------+-------------+-------------+---------+"
     ]
    }
   ],
   "source": [
    "readOptions = {\n",
    "  'hoodie.datasource.query.type': 'incremental',\n",
    "  'hoodie.datasource.read.begin.instanttime': '0',\n",
    "  'hoodie.datasource.read.end.instanttime': '20221013100436088', #last_commit_time,\n",
    "}\n",
    "\n",
    "incQueryDF = spark.read \\\n",
    "    .format('org.apache.hudi') \\\n",
    "    .options(**readOptions) \\\n",
    "    .load(f\"s3://aws-emr-resources-479055760150-eu-central-1/cdc_users\") \\\n",
    "    .select(\"_hoodie_commit_time\", \"id\", \"first_name\", \"primary_email\", \"created_at\", \"updated_at\", \"eventType\")\n",
    "    \n",
    "incQueryDF.show()"
   ]
  },
  {
   "cell_type": "code",
   "execution_count": 12,
   "id": "3b9a9205",
   "metadata": {},
   "outputs": [
    {
     "data": {
      "application/vnd.jupyter.widget-view+json": {
       "model_id": "b9c309ceab8a492285582cc4b1613ce3",
       "version_major": 2,
       "version_minor": 0
      },
      "text/plain": [
       "VBox()"
      ]
     },
     "metadata": {},
     "output_type": "display_data"
    },
    {
     "data": {
      "application/vnd.jupyter.widget-view+json": {
       "model_id": "",
       "version_major": 2,
       "version_minor": 0
      },
      "text/plain": [
       "FloatProgress(value=0.0, bar_style='info', description='Progress:', layout=Layout(height='25px', width='50%'),…"
      ]
     },
     "metadata": {},
     "output_type": "display_data"
    },
    {
     "name": "stdout",
     "output_type": "stream",
     "text": [
      "+-------------------+--------------------+--------------+--------------------+-------------+-------------+---------+\n",
      "|_hoodie_commit_time|                  id|    first_name|       primary_email|   created_at|   updated_at|eventType|\n",
      "+-------------------+--------------------+--------------+--------------------+-------------+-------------+---------+\n",
      "|  20221013101630531|7b285a3e-42c9-411...|Johannes Boyne|johannesboyne+yar...|1520433144493|1520433144494|   Insert|\n",
      "|  20221013101630531|c2b86d7f-95a3-4f6...|Max Mustermann|johannesboyne+yar...|1520432203566|1520432203566|   Insert|\n",
      "|  20221013101630531|61998a31-cbd8-47d...|          Jess| jacacio.d@gmail.com|1519906269690|1519906280718|   Insert|\n",
      "+-------------------+--------------------+--------------+--------------------+-------------+-------------+---------+"
     ]
    }
   ],
   "source": [
    "first_commit_time = rawDF.sort(rawDF._hoodie_commit_time.asc()).select(\"_hoodie_commit_time\").limit(1).collect()[0]._hoodie_commit_time\n",
    "\n",
    "readOptions = {\n",
    "  'hoodie.datasource.query.type': 'incremental',\n",
    "  'hoodie.datasource.read.begin.instanttime': '0',\n",
    "  'hoodie.datasource.read.end.instanttime': 'first_commit_time',\n",
    "}\n",
    "\n",
    "incQueryDF = spark.read \\\n",
    "    .format('org.apache.hudi') \\\n",
    "    .options(**readOptions) \\\n",
    "    .load(f\"s3://aws-emr-resources-479055760150-eu-central-1/cdc_users\") \\\n",
    "    .select(\"_hoodie_commit_time\", \"id\", \"first_name\", \"primary_email\", \"created_at\", \"updated_at\", \"eventType\")\n",
    "    \n",
    "incQueryDF.show()"
   ]
  },
  {
   "cell_type": "markdown",
   "id": "0b1c1c2c",
   "metadata": {},
   "source": [
    "## Test with Users_Table"
   ]
  },
  {
   "cell_type": "code",
   "execution_count": 3,
   "id": "ed1c9bb1",
   "metadata": {},
   "outputs": [
    {
     "data": {
      "application/vnd.jupyter.widget-view+json": {
       "model_id": "167a0f2117fa4ef1a53ebf54696085e4",
       "version_major": 2,
       "version_minor": 0
      },
      "text/plain": [
       "VBox()"
      ]
     },
     "metadata": {},
     "output_type": "display_data"
    },
    {
     "data": {
      "application/vnd.jupyter.widget-view+json": {
       "model_id": "",
       "version_major": 2,
       "version_minor": 0
      },
      "text/plain": [
       "FloatProgress(value=0.0, bar_style='info', description='Progress:', layout=Layout(height='25px', width='50%'),…"
      ]
     },
     "metadata": {},
     "output_type": "display_data"
    }
   ],
   "source": [
    "# Specify common DataSourceWriteOptions in the single hudiOptions variable\n",
    "hudiOptions = {\n",
    "'hoodie.table.name': 'users_table',\n",
    "'hoodie.datasource.write.recordkey.field': 'data.id',\n",
    "'hoodie.datasource.write.partitionpath.field': 'data.created_at',\n",
    "'hoodie.datasource.write.precombine.field': 'dateTimeOccurred',\n",
    "'hoodie.datasource.hive_sync.enable': 'true',\n",
    "'hoodie.datasource.hive_sync.table': 'users_table',\n",
    "'hoodie.datasource.hive_sync.partition_fields': 'created_at',\n",
    "'hoodie.datasource.hive_sync.partition_extractor_class': 'org.apache.hudi.hive.MultiPartKeysValueExtractor'\n",
    "}"
   ]
  },
  {
   "cell_type": "code",
   "execution_count": 5,
   "id": "45149651",
   "metadata": {},
   "outputs": [
    {
     "data": {
      "application/vnd.jupyter.widget-view+json": {
       "model_id": "758e3c58c1bf4717b05c7b8998018b27",
       "version_major": 2,
       "version_minor": 0
      },
      "text/plain": [
       "VBox()"
      ]
     },
     "metadata": {},
     "output_type": "display_data"
    },
    {
     "data": {
      "application/vnd.jupyter.widget-view+json": {
       "model_id": "",
       "version_major": 2,
       "version_minor": 0
      },
      "text/plain": [
       "FloatProgress(value=0.0, bar_style='info', description='Progress:', layout=Layout(height='25px', width='50%'),…"
      ]
     },
     "metadata": {},
     "output_type": "display_data"
    }
   ],
   "source": [
    "S3_BUCKET_NAME = \"aws-emr-resources-479055760150-eu-central-1\""
   ]
  },
  {
   "cell_type": "markdown",
   "id": "801e0229",
   "metadata": {},
   "source": [
    "## Insert"
   ]
  },
  {
   "cell_type": "code",
   "execution_count": 14,
   "id": "f3fb95d6",
   "metadata": {},
   "outputs": [
    {
     "data": {
      "application/vnd.jupyter.widget-view+json": {
       "model_id": "9a9ad6793dd241c083140b32e70d81af",
       "version_major": 2,
       "version_minor": 0
      },
      "text/plain": [
       "VBox()"
      ]
     },
     "metadata": {},
     "output_type": "display_data"
    },
    {
     "data": {
      "application/vnd.jupyter.widget-view+json": {
       "model_id": "",
       "version_major": 2,
       "version_minor": 0
      },
      "text/plain": [
       "FloatProgress(value=0.0, bar_style='info', description='Progress:', layout=Layout(height='25px', width='50%'),…"
      ]
     },
     "metadata": {},
     "output_type": "display_data"
    }
   ],
   "source": [
    "# Write a DataFrame as a Hudi dataset\n",
    "inputDF.write \\\n",
    ".format('org.apache.hudi') \\\n",
    ".option('hoodie.datasource.write.operation', 'insert') \\\n",
    ".options(**hudiOptions) \\\n",
    ".mode('overwrite') \\\n",
    ".save(f\"s3://{S3_BUCKET_NAME}/users/\")"
   ]
  },
  {
   "cell_type": "code",
   "execution_count": 15,
   "id": "11a37ffd",
   "metadata": {},
   "outputs": [
    {
     "data": {
      "application/vnd.jupyter.widget-view+json": {
       "model_id": "e9ecd7b6e2614c0e8350a96eea1251db",
       "version_major": 2,
       "version_minor": 0
      },
      "text/plain": [
       "VBox()"
      ]
     },
     "metadata": {},
     "output_type": "display_data"
    },
    {
     "data": {
      "application/vnd.jupyter.widget-view+json": {
       "model_id": "",
       "version_major": 2,
       "version_minor": 0
      },
      "text/plain": [
       "FloatProgress(value=0.0, bar_style='info', description='Progress:', layout=Layout(height='25px', width='50%'),…"
      ]
     },
     "metadata": {},
     "output_type": "display_data"
    },
    {
     "name": "stdout",
     "output_type": "stream",
     "text": [
      "+--------------------+--------------+--------------------+-------------+-------------+---------+\n",
      "|                  id|    first_name|       primary_email|   created_at|   updated_at|eventType|\n",
      "+--------------------+--------------+--------------------+-------------+-------------+---------+\n",
      "|c2b86d7f-95a3-4f6...|Max Mustermann|johannesboyne+yar...|1520432203566|1520432203566|   Insert|\n",
      "|61998a31-cbd8-47d...|          Jess| jacacio.d@gmail.com|1519906269690|1519906280718|   Insert|\n",
      "|26eff161-dbf9-45e...|Johannes Boyne|johannesboyne+yar...|1519906269690|1520077642240|   Insert|\n",
      "+--------------------+--------------+--------------------+-------------+-------------+---------+"
     ]
    }
   ],
   "source": [
    "snapshotQueryDF = spark.read \\\n",
    "    .format('org.apache.hudi') \\\n",
    "    .load('s3://aws-emr-resources-479055760150-eu-central-1/users' + '/*/*') \\\n",
    "    .select(\"data.id\", \"data.first_name\", \"data.primary_email\", \"data.created_at\", \"data.updated_at\", \"eventType\")\n",
    "    \n",
    "snapshotQueryDF.show()"
   ]
  },
  {
   "cell_type": "code",
   "execution_count": 9,
   "id": "b4eed32d",
   "metadata": {},
   "outputs": [
    {
     "name": "stdout",
     "output_type": "stream",
     "text": [
      "env: S3_BUCKET_NAME=aws-emr-resources-479055760150-eu-central-1\n"
     ]
    }
   ],
   "source": [
    "%env S3_BUCKET_NAME=aws-emr-resources-479055760150-eu-central-1"
   ]
  },
  {
   "cell_type": "code",
   "execution_count": 22,
   "id": "93bb5f26",
   "metadata": {},
   "outputs": [
    {
     "name": "stdout",
     "output_type": "stream",
     "text": [
      "                           PRE .hoodie/\n",
      "                           PRE 1519906269690/\n",
      "2022-10-06 06:06:14          0 .hoodie_$folder$\n",
      "2022-10-06 06:06:36          0 1519906269690_$folder$\n"
     ]
    }
   ],
   "source": [
    "%%sh\n",
    "\n",
    "aws s3 ls s3://${S3_BUCKET_NAME}/users/"
   ]
  },
  {
   "cell_type": "markdown",
   "id": "cc898448",
   "metadata": {},
   "source": [
    "## Update"
   ]
  },
  {
   "cell_type": "code",
   "execution_count": 16,
   "id": "3491e048",
   "metadata": {},
   "outputs": [
    {
     "data": {
      "application/vnd.jupyter.widget-view+json": {
       "model_id": "4aebf2d5e0b24d50bb0ea8b4c7fd5080",
       "version_major": 2,
       "version_minor": 0
      },
      "text/plain": [
       "VBox()"
      ]
     },
     "metadata": {},
     "output_type": "display_data"
    },
    {
     "data": {
      "application/vnd.jupyter.widget-view+json": {
       "model_id": "",
       "version_major": 2,
       "version_minor": 0
      },
      "text/plain": [
       "FloatProgress(value=0.0, bar_style='info', description='Progress:', layout=Layout(height='25px', width='50%'),…"
      ]
     },
     "metadata": {},
     "output_type": "display_data"
    },
    {
     "name": "stdout",
     "output_type": "stream",
     "text": [
      "+--------------------+----------+-------------------+-------------+-------------+---------+\n",
      "|                  id|first_name|      primary_email|   created_at|   updated_at|eventType|\n",
      "+--------------------+----------+-------------------+-------------+-------------+---------+\n",
      "|61998a31-cbd8-47d...|      Jess|jacacio.d@gmail.com|1519906269690|1519906280718|   Update|\n",
      "+--------------------+----------+-------------------+-------------+-------------+---------+"
     ]
    }
   ],
   "source": [
    "from pyspark.sql.functions import lit\n",
    "\n",
    "# Create a new DataFrame from the first row of inputDF with a different creation_date value\n",
    "updateDF = inputDF.filter(\"data.id = '61998a31-cbd8-47de-9b2b-554b0377a000'\").withColumn(\"eventType\", lit(\"Update\"))\n",
    "\n",
    "updateDF.select(\"data.id\", \"data.first_name\", \"data.primary_email\", \"data.created_at\", \"data.updated_at\", \"eventType\").show()\n",
    "\n",
    "updateDF.write.format(\"org.apache.hudi\").option(\n",
    "    \"hoodie.datasource.write.operation\", \"upsert\"\n",
    ").options(**hudiOptions).mode(\"append\").save(f\"s3://{S3_BUCKET_NAME}/users/\")"
   ]
  },
  {
   "cell_type": "code",
   "execution_count": 17,
   "id": "50420d57",
   "metadata": {},
   "outputs": [
    {
     "data": {
      "application/vnd.jupyter.widget-view+json": {
       "model_id": "ab4a42185578457ca9b6d14be8fcc6fd",
       "version_major": 2,
       "version_minor": 0
      },
      "text/plain": [
       "VBox()"
      ]
     },
     "metadata": {},
     "output_type": "display_data"
    },
    {
     "data": {
      "application/vnd.jupyter.widget-view+json": {
       "model_id": "",
       "version_major": 2,
       "version_minor": 0
      },
      "text/plain": [
       "FloatProgress(value=0.0, bar_style='info', description='Progress:', layout=Layout(height='25px', width='50%'),…"
      ]
     },
     "metadata": {},
     "output_type": "display_data"
    },
    {
     "name": "stdout",
     "output_type": "stream",
     "text": [
      "+------------------------------------+--------------+-------------+-------------+---------+\n",
      "|id                                  |first_name    |created_at   |updated_at   |eventType|\n",
      "+------------------------------------+--------------+-------------+-------------+---------+\n",
      "|61998a31-cbd8-47de-9b2b-554b0377a000|Jess          |1519906269690|1519906280718|Update   |\n",
      "|26eff161-dbf9-45e3-bc9d-b311224858c2|Johannes Boyne|1519906269690|1520077642240|Insert   |\n",
      "|c2b86d7f-95a3-4f65-9863-d5338e99bcf0|Max Mustermann|1520432203566|1520432203566|Insert   |\n",
      "+------------------------------------+--------------+-------------+-------------+---------+"
     ]
    }
   ],
   "source": [
    "snapshotQueryDF = spark.read \\\n",
    "    .format('org.apache.hudi') \\\n",
    "    .load(f\"s3://{S3_BUCKET_NAME}/users/\") \\\n",
    "    .select(\"data.id\", \"data.first_name\", \"data.created_at\", \"data.updated_at\", \"eventType\") \\\n",
    "    .sort('dateTimeOccurred', 'data.id')\n",
    "    \n",
    "snapshotQueryDF.show(truncate=False)"
   ]
  },
  {
   "cell_type": "markdown",
   "id": "a1e1256a",
   "metadata": {},
   "source": [
    "## Delete\n",
    "Applying hard delete.\n",
    "\n",
    "Using **\"updateDF\"** created above!"
   ]
  },
  {
   "cell_type": "code",
   "execution_count": 18,
   "id": "5579be67",
   "metadata": {},
   "outputs": [
    {
     "data": {
      "application/vnd.jupyter.widget-view+json": {
       "model_id": "bd3515f87e274d5388959875de4289e8",
       "version_major": 2,
       "version_minor": 0
      },
      "text/plain": [
       "VBox()"
      ]
     },
     "metadata": {},
     "output_type": "display_data"
    },
    {
     "data": {
      "application/vnd.jupyter.widget-view+json": {
       "model_id": "",
       "version_major": 2,
       "version_minor": 0
      },
      "text/plain": [
       "FloatProgress(value=0.0, bar_style='info', description='Progress:', layout=Layout(height='25px', width='50%'),…"
      ]
     },
     "metadata": {},
     "output_type": "display_data"
    }
   ],
   "source": [
    "updateDF.write.format(\"org.apache.hudi\").option(\n",
    "    \"hoodie.datasource.write.operation\", \"upsert\"\n",
    ").option(\n",
    "    \"hoodie.datasource.write.payload.class\",\n",
    "    \"org.apache.hudi.common.model.EmptyHoodieRecordPayload\",\n",
    ").options(\n",
    "    **hudiOptions\n",
    ").mode(\n",
    "    \"append\"\n",
    ").save(\n",
    "    f\"s3://{S3_BUCKET_NAME}/users/\"\n",
    ")"
   ]
  },
  {
   "cell_type": "code",
   "execution_count": 19,
   "id": "03e6f9c0",
   "metadata": {},
   "outputs": [
    {
     "data": {
      "application/vnd.jupyter.widget-view+json": {
       "model_id": "62c599c2d239481994429e82ede15453",
       "version_major": 2,
       "version_minor": 0
      },
      "text/plain": [
       "VBox()"
      ]
     },
     "metadata": {},
     "output_type": "display_data"
    },
    {
     "data": {
      "application/vnd.jupyter.widget-view+json": {
       "model_id": "",
       "version_major": 2,
       "version_minor": 0
      },
      "text/plain": [
       "FloatProgress(value=0.0, bar_style='info', description='Progress:', layout=Layout(height='25px', width='50%'),…"
      ]
     },
     "metadata": {},
     "output_type": "display_data"
    },
    {
     "name": "stdout",
     "output_type": "stream",
     "text": [
      "+------------------------------------+--------------+-------------+-------------+---------+\n",
      "|id                                  |first_name    |created_at   |updated_at   |eventType|\n",
      "+------------------------------------+--------------+-------------+-------------+---------+\n",
      "|26eff161-dbf9-45e3-bc9d-b311224858c2|Johannes Boyne|1519906269690|1520077642240|Insert   |\n",
      "|c2b86d7f-95a3-4f65-9863-d5338e99bcf0|Max Mustermann|1520432203566|1520432203566|Insert   |\n",
      "+------------------------------------+--------------+-------------+-------------+---------+"
     ]
    }
   ],
   "source": [
    "snapshotQueryDF = spark.read \\\n",
    "    .format('org.apache.hudi') \\\n",
    "    .load(f\"s3://{S3_BUCKET_NAME}/users\") \\\n",
    "    .select(\"data.id\", \"data.first_name\", \"data.created_at\", \"data.updated_at\", \"eventType\") \\\n",
    "#     .withColumn(\"filename\", regexp_replace(input_file_name(), S3_BUCKET_NAME, '<BUCKET>'))\n",
    "    \n",
    "snapshotQueryDF.show(truncate=False)"
   ]
  },
  {
   "cell_type": "code",
   "execution_count": null,
   "id": "4bb520e9",
   "metadata": {},
   "outputs": [],
   "source": []
  }
 ],
 "metadata": {
  "kernelspec": {
   "display_name": "PySpark",
   "language": "python",
   "name": "pysparkkernel"
  },
  "language_info": {
   "codemirror_mode": {
    "name": "python",
    "version": 3
   },
   "file_extension": ".py",
   "mimetype": "text/x-python",
   "name": "pyspark",
   "pygments_lexer": "python3"
  }
 },
 "nbformat": 4,
 "nbformat_minor": 5
}
